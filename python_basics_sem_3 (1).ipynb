{
  "nbformat": 4,
  "nbformat_minor": 0,
  "metadata": {
    "colab": {
      "provenance": []
    },
    "kernelspec": {
      "name": "python3",
      "display_name": "Python 3"
    },
    "language_info": {
      "name": "python"
    }
  },
  "cells": [
    {
      "cell_type": "markdown",
      "source": [
        "String Concatenation"
      ],
      "metadata": {
        "id": "v5HU4s8CZqfb"
      }
    },
    {
      "cell_type": "code",
      "source": [
        "string_greet=\"Hello!,\"\n",
        "string_intro=\"my name is Srishti Tripathi.\"\n",
        "string_3= string_greet + string_intro\n",
        "print(string_3)"
      ],
      "metadata": {
        "colab": {
          "base_uri": "https://localhost:8080/"
        },
        "id": "Ts40NG1zY08v",
        "outputId": "7327dafe-6df0-481e-f206-ca8a4a04e9c6"
      },
      "execution_count": null,
      "outputs": [
        {
          "output_type": "stream",
          "name": "stdout",
          "text": [
            "Hello!,my name is Srishti Tripathi.\n"
          ]
        }
      ]
    },
    {
      "cell_type": "markdown",
      "source": [
        "Airthematic operators"
      ],
      "metadata": {
        "id": "Om038kN7Zubx"
      }
    },
    {
      "cell_type": "code",
      "source": [
        "#Power operator\n",
        "exponent= 3**2\n",
        "#modulus operator\n",
        "modulo = 56%7\n",
        "#iNTEGER dIVISION\n",
        "INT_DIV = 78//9\n",
        "#Division\n",
        "division= 78/9\n",
        "#Multiplication\n",
        "multply=9*7\n",
        "#Subtraction\n",
        "sub = 100-45\n",
        "#Addition\n",
        "add= 78+90\n",
        "print(\"The Result of the exponent operator are:\", exponent )\n",
        "print(\"The remainder of the numbers is :\", modulo)\n",
        "print(\"The integer division of the numbers is:\",INT_DIV)\n",
        "print(\"The division of the numbers give:\",division)\n",
        "print(\"The product of the numbers id :\", multply)\n",
        "\n"
      ],
      "metadata": {
        "colab": {
          "base_uri": "https://localhost:8080/"
        },
        "id": "OWx_5VaAaD-I",
        "outputId": "126d41b8-9245-4a53-e221-9dfa23300994"
      },
      "execution_count": null,
      "outputs": [
        {
          "output_type": "stream",
          "name": "stdout",
          "text": [
            "The Result of the exponent operator are: 9\n",
            "The remainder of the numbers is : 0\n",
            "The integer division of the numbers is: 8\n",
            "The division of the numbers give: 8.666666666666666\n",
            "The product of the numbers id : 63\n"
          ]
        }
      ]
    },
    {
      "cell_type": "markdown",
      "source": [
        "String manipulation:Input()"
      ],
      "metadata": {
        "id": "OBhL_Xhhb-c3"
      }
    },
    {
      "cell_type": "code",
      "source": [
        "name= input(\"Hello!, Whats your name ?\")\n",
        "print(\"Nice to meet you\"+name+ \"!\")\n",
        "\n",
        "age= input(\"How old are you ?\")\n",
        "print(\"So you are already \" + str(age)+ \" years old \" + name+ \"!\")"
      ],
      "metadata": {
        "id": "vx4NanQicUIk"
      },
      "execution_count": null,
      "outputs": []
    },
    {
      "cell_type": "markdown",
      "source": [
        "Filter()"
      ],
      "metadata": {
        "id": "QOadj_XQTsXE"
      }
    },
    {
      "cell_type": "code",
      "source": [
        "#initialising the list\n",
        "ages = [5,12,17,18,24,32]\n",
        "\n",
        "#Defining a function\n",
        "def myFunc(x):\n",
        "  if x <18:\n",
        "    return False\n",
        "  else:\n",
        "    return True\n",
        "\n",
        "#Calling the function\n",
        "adults = filter(myFunc,ages)\n",
        "for x in adults:\n",
        "  print(x)\n"
      ],
      "metadata": {
        "colab": {
          "base_uri": "https://localhost:8080/"
        },
        "id": "DQBR3U1pTn43",
        "outputId": "37b29ee2-2b55-4730-e088-2bc91597f978"
      },
      "execution_count": null,
      "outputs": [
        {
          "output_type": "stream",
          "name": "stdout",
          "text": [
            "18\n",
            "24\n",
            "32\n"
          ]
        }
      ]
    },
    {
      "cell_type": "markdown",
      "source": [
        "Apppend Lists"
      ],
      "metadata": {
        "id": "ADE3_YGVWEN9"
      }
    },
    {
      "cell_type": "markdown",
      "source": [
        "Append lists"
      ],
      "metadata": {
        "id": "Fk5tD1YcXkV8"
      }
    },
    {
      "cell_type": "code",
      "source": [
        "beta_list= [\"apple\",\"banana\", \"mango\"]\n",
        "beta_list.append(\"grape\")\n",
        "print(beta_list)"
      ],
      "metadata": {
        "colab": {
          "base_uri": "https://localhost:8080/"
        },
        "id": "F_61A8JxWN5N",
        "outputId": "16a3c3e1-f1de-4b2c-fce8-0e943f08bf9d"
      },
      "execution_count": null,
      "outputs": [
        {
          "output_type": "stream",
          "name": "stdout",
          "text": [
            "['apple', 'banana', 'mango', 'grape']\n"
          ]
        }
      ]
    },
    {
      "cell_type": "markdown",
      "source": [
        "Insert items in a list"
      ],
      "metadata": {
        "id": "9QatoM6RXo78"
      }
    },
    {
      "cell_type": "code",
      "source": [
        "beta_list = [\"apple\",\"banana\",\"mango\"]\n",
        "beta_list.insert(2,\"grape\")\n",
        "print(beta_list)\n"
      ],
      "metadata": {
        "colab": {
          "base_uri": "https://localhost:8080/"
        },
        "id": "DMFvPiBzXCCK",
        "outputId": "8070ec35-0ff3-4aef-d706-9ae5284ef1bb"
      },
      "execution_count": null,
      "outputs": [
        {
          "output_type": "stream",
          "name": "stdout",
          "text": [
            "['apple', 'banana', 'grape', 'mango']\n"
          ]
        }
      ]
    },
    {
      "cell_type": "markdown",
      "source": [
        "Remove items from a list"
      ],
      "metadata": {
        "id": "wvF7k2QEXu_t"
      }
    },
    {
      "cell_type": "code",
      "source": [
        "beta_list = [\"apple\",\"banana\",\"mango\"]\n",
        "beta_list.remove(\"banana\")\n",
        "print(beta_list)"
      ],
      "metadata": {
        "colab": {
          "base_uri": "https://localhost:8080/"
        },
        "id": "TSDUPv_4Xx4X",
        "outputId": "4de2bd29-993a-4866-e666-6772ee93153a"
      },
      "execution_count": null,
      "outputs": [
        {
          "output_type": "stream",
          "name": "stdout",
          "text": [
            "['apple', 'mango']\n"
          ]
        }
      ]
    },
    {
      "cell_type": "markdown",
      "source": [
        "Pop function in lists"
      ],
      "metadata": {
        "id": "2SHEfmkPYJCX"
      }
    },
    {
      "cell_type": "code",
      "source": [
        "beta_list = [\"apple\",\"banana\",\"mango\"]\n",
        "beta_list.pop(1)\n",
        "print(beta_list)"
      ],
      "metadata": {
        "colab": {
          "base_uri": "https://localhost:8080/"
        },
        "id": "ziONxc4LYMlt",
        "outputId": "d796b044-e12c-4d90-c9ff-6cab240df755"
      },
      "execution_count": null,
      "outputs": [
        {
          "output_type": "stream",
          "name": "stdout",
          "text": [
            "['apple', 'mango']\n"
          ]
        }
      ]
    },
    {
      "cell_type": "markdown",
      "source": [
        "Combinig two lists"
      ],
      "metadata": {
        "id": "xh599qrdYSHU"
      }
    },
    {
      "cell_type": "code",
      "source": [
        "one_list =[\"apple \",\"banana\",\"mango\"]\n",
        "two_list = [\"grape\", \"orange\"]\n",
        "combo_list = one_list + two_list\n",
        "print(combo_list)"
      ],
      "metadata": {
        "colab": {
          "base_uri": "https://localhost:8080/"
        },
        "id": "4f1B1c96YqBS",
        "outputId": "6a59ce44-da33-4541-c378-6e3fe3c6494e"
      },
      "execution_count": null,
      "outputs": [
        {
          "output_type": "stream",
          "name": "stdout",
          "text": [
            "['apple ', 'banana', 'mango', 'grape', 'orange']\n"
          ]
        }
      ]
    },
    {
      "cell_type": "markdown",
      "source": [
        "Crearting Nested Lists"
      ],
      "metadata": {
        "id": "NB1ZuWgxZMuW"
      }
    },
    {
      "cell_type": "code",
      "source": [
        "my_nested_list = [one_list, two_list]\n",
        "my_nested_list"
      ],
      "metadata": {
        "colab": {
          "base_uri": "https://localhost:8080/"
        },
        "id": "ikaeJGNAZSZo",
        "outputId": "d734baa9-0aca-4850-f506-ba3273b7523f"
      },
      "execution_count": null,
      "outputs": [
        {
          "output_type": "execute_result",
          "data": {
            "text/plain": [
              "[['apple ', 'banana', 'mango'], ['grape', 'orange']]"
            ]
          },
          "metadata": {},
          "execution_count": 13
        }
      ]
    },
    {
      "cell_type": "markdown",
      "source": [
        "Soring lists"
      ],
      "metadata": {
        "id": "tZsM_v4TZk1y"
      }
    },
    {
      "cell_type": "code",
      "source": [
        "a_list =[34,89,65,23,1,28]\n",
        "a_list.sort()\n",
        "a_list\n",
        "# descending order\n",
        "a_list.sort(reverse=True)\n",
        "a_list\n"
      ],
      "metadata": {
        "colab": {
          "base_uri": "https://localhost:8080/"
        },
        "id": "sx78sacRZnZY",
        "outputId": "22f76a78-92a3-4fa6-976f-16c76260f870"
      },
      "execution_count": null,
      "outputs": [
        {
          "output_type": "execute_result",
          "data": {
            "text/plain": [
              "[89, 65, 34, 28, 23, 1]"
            ]
          },
          "metadata": {},
          "execution_count": 17
        }
      ]
    },
    {
      "cell_type": "markdown",
      "source": [
        "Slicing a list"
      ],
      "metadata": {
        "id": "WXbuxdcFaI_D"
      }
    },
    {
      "cell_type": "code",
      "source": [
        "a_list[0:4]\n"
      ],
      "metadata": {
        "colab": {
          "base_uri": "https://localhost:8080/"
        },
        "id": "aW6uDF_IaL02",
        "outputId": "61009241-d565-4c38-e86c-8cbff27e30b6"
      },
      "execution_count": null,
      "outputs": [
        {
          "output_type": "execute_result",
          "data": {
            "text/plain": [
              "[89, 65, 34, 28]"
            ]
          },
          "metadata": {},
          "execution_count": 18
        }
      ]
    },
    {
      "cell_type": "markdown",
      "source": [
        "Converting tuple to list"
      ],
      "metadata": {
        "id": "7FhliuCFaw2C"
      }
    },
    {
      "cell_type": "code",
      "source": [
        "x =(\"apple\",\"banana\",\"mango\")\n",
        "y = list(x)\n",
        "print(y)"
      ],
      "metadata": {
        "colab": {
          "base_uri": "https://localhost:8080/"
        },
        "id": "hZO_Muvua4iy",
        "outputId": "286ad502-bdb1-469c-a03b-2c1db3050fad"
      },
      "execution_count": null,
      "outputs": [
        {
          "output_type": "stream",
          "name": "stdout",
          "text": [
            "['apple', 'banana', 'mango']\n"
          ]
        }
      ]
    },
    {
      "cell_type": "markdown",
      "source": [
        "Dictionaries"
      ],
      "metadata": {
        "id": "0eXf3KPAa9MJ"
      }
    },
    {
      "cell_type": "code",
      "source": [
        "cutomer1 = {'username':'john-sea','online':'false','friends':100}\n",
        "print(cutomer1)\n",
        "\n",
        "new_dict = {\n",
        "    \"brand\": \"hero honda\",\n",
        "    \"model\": \"Civic\",\n",
        "    \"year\": 2020\n",
        "}\n",
        "print(new_dict)\n"
      ],
      "metadata": {
        "colab": {
          "base_uri": "https://localhost:8080/"
        },
        "id": "gic80IZRbkGP",
        "outputId": "8121a968-048d-4c4c-ee52-acde191481fb"
      },
      "execution_count": null,
      "outputs": [
        {
          "output_type": "stream",
          "name": "stdout",
          "text": [
            "{'username': 'john-sea', 'online': 'false', 'friends': 100}\n",
            "{'brand': 'hero honda', 'model': 'Civic', 'year': 2020}\n"
          ]
        }
      ]
    },
    {
      "cell_type": "markdown",
      "source": [],
      "metadata": {
        "id": "1l4pmetRdaLD"
      }
    },
    {
      "cell_type": "code",
      "source": [
        "#to print all keynames\n",
        "for x in new_dict:\n",
        "  print(x)\n",
        "\n",
        " #print all values in the list\n",
        "for x in new_dict:\n",
        "  print(new_dict[x])\n",
        "#loop through both keys and values\n",
        "for x,y in new_dict.items():\n",
        " print(x,y)"
      ],
      "metadata": {
        "colab": {
          "base_uri": "https://localhost:8080/"
        },
        "id": "bKVtp9ShdjVS",
        "outputId": "b8a2759c-6198-47a6-d191-073a0a7fb9ee"
      },
      "execution_count": null,
      "outputs": [
        {
          "output_type": "stream",
          "name": "stdout",
          "text": [
            "brand\n",
            "model\n",
            "year\n",
            "hero honda\n",
            "Civic\n",
            "2020\n",
            "brand hero honda\n",
            "model Civic\n",
            "year 2020\n"
          ]
        }
      ]
    },
    {
      "cell_type": "markdown",
      "source": [
        "Nested If statements"
      ],
      "metadata": {
        "id": "CjGlqbZ8e0-c"
      }
    },
    {
      "cell_type": "code",
      "source": [
        "x = 35\n",
        "if x>20:\n",
        "  print(\"Above twenty,\")\n",
        "  if x > 30 :\n",
        "    print(\"and also above 30!\")"
      ],
      "metadata": {
        "colab": {
          "base_uri": "https://localhost:8080/"
        },
        "id": "W4Oci67Ce4HB",
        "outputId": "68715211-a66a-4d6f-ddea-e1ad35b159e4"
      },
      "execution_count": null,
      "outputs": [
        {
          "output_type": "stream",
          "name": "stdout",
          "text": [
            "Above twenty,\n",
            "and also above 30!\n"
          ]
        }
      ]
    },
    {
      "cell_type": "markdown",
      "source": [
        "Elif Statements"
      ],
      "metadata": {
        "id": "ws2amhF8fqaM"
      }
    },
    {
      "cell_type": "code",
      "source": [
        "a =45\n",
        "b=90\n",
        "if b > a:\n",
        "  print(\"B is greater than a\")\n",
        "elif a == b:\n",
        "    print(\"a and B are equal\")"
      ],
      "metadata": {
        "colab": {
          "base_uri": "https://localhost:8080/"
        },
        "id": "m6DNOznwfssI",
        "outputId": "8b3bfffe-6b0d-407c-a2e8-2d4fb11ea8e0"
      },
      "execution_count": null,
      "outputs": [
        {
          "output_type": "stream",
          "name": "stdout",
          "text": [
            "B is greater than a\n"
          ]
        }
      ]
    },
    {
      "cell_type": "markdown",
      "source": [
        "If Else Statements"
      ],
      "metadata": {
        "id": "QF7tCPvjgPj3"
      }
    },
    {
      "cell_type": "code",
      "source": [
        "if age <4:\n",
        "  ticket_price = 0\n",
        "elif age <18:\n",
        "    ticket_price = 10\n",
        "else:\n",
        "    ticket_price = 50"
      ],
      "metadata": {
        "id": "iPcjqxtcgRs3"
      },
      "execution_count": null,
      "outputs": []
    },
    {
      "cell_type": "markdown",
      "source": [
        "Classes and Objects"
      ],
      "metadata": {
        "id": "OhNemeXMifHT"
      }
    },
    {
      "cell_type": "code",
      "source": [
        "class car(object):\n",
        "  \"\"\"docstring\"\"\"\n",
        "  def init_(self,color,doors,tires):\n",
        "    \"\"\"constructor\"\"\"\n",
        "    self.color = color\n",
        "    self.doors = doors\n",
        "    self.tires = tires\n",
        "  def brake(self):\n",
        "    \"\"\"\n",
        "    stop the car\n",
        "    \"\"\"\n",
        "    return \"braking\"\n",
        "  def drive(self):\n",
        "    \"\"\"\n",
        "    Drive the car\n",
        "    \"\"\"\n",
        "    return \"I am Driving!\""
      ],
      "metadata": {
        "id": "k0ramf7AiinA"
      },
      "execution_count": null,
      "outputs": []
    }
  ]
}