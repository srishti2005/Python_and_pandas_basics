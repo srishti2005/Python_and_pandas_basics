{
  "nbformat": 4,
  "nbformat_minor": 0,
  "metadata": {
    "colab": {
      "provenance": []
    },
    "kernelspec": {
      "name": "python3",
      "display_name": "Python 3"
    },
    "language_info": {
      "name": "python"
    }
  },
  "cells": [
    {
      "cell_type": "code",
      "execution_count": null,
      "metadata": {
        "id": "sfpSB_XUJN08"
      },
      "outputs": [],
      "source": [
        "import numpy as np\n"
      ]
    },
    {
      "cell_type": "code",
      "source": [
        "!pip install numpy"
      ],
      "metadata": {
        "colab": {
          "base_uri": "https://localhost:8080/"
        },
        "id": "s_Ed6VuILJll",
        "outputId": "4b07852d-7a5d-46b5-ed22-c87b0557668b"
      },
      "execution_count": null,
      "outputs": [
        {
          "output_type": "stream",
          "name": "stdout",
          "text": [
            "Requirement already satisfied: numpy in /usr/local/lib/python3.10/dist-packages (1.25.2)\n"
          ]
        }
      ]
    },
    {
      "cell_type": "code",
      "source": [
        "twoDList = [[20,30,40],[50,60,70]]"
      ],
      "metadata": {
        "id": "Qa-Rr5-gLSUQ"
      },
      "execution_count": null,
      "outputs": []
    },
    {
      "cell_type": "code",
      "source": [
        "twoDArray = np.array(twoDList)"
      ],
      "metadata": {
        "id": "Fr0LU08gL0EV"
      },
      "execution_count": null,
      "outputs": []
    },
    {
      "cell_type": "code",
      "source": [
        "np.arange(5)"
      ],
      "metadata": {
        "colab": {
          "base_uri": "https://localhost:8080/"
        },
        "id": "PvLwwpYaMDb6",
        "outputId": "0f576272-465b-4e81-a0c4-9f04712cedab"
      },
      "execution_count": null,
      "outputs": [
        {
          "output_type": "execute_result",
          "data": {
            "text/plain": [
              "array([0, 1, 2, 3, 4])"
            ]
          },
          "metadata": {},
          "execution_count": 10
        }
      ]
    },
    {
      "cell_type": "code",
      "source": [
        "np.zeros(3)"
      ],
      "metadata": {
        "colab": {
          "base_uri": "https://localhost:8080/"
        },
        "id": "jUyJfpHzMY2y",
        "outputId": "c312ad75-f445-441b-d64c-da6bcd6cddfc"
      },
      "execution_count": null,
      "outputs": [
        {
          "output_type": "execute_result",
          "data": {
            "text/plain": [
              "array([0., 0., 0.])"
            ]
          },
          "metadata": {},
          "execution_count": 11
        }
      ]
    },
    {
      "cell_type": "code",
      "source": [
        "np.zeros ([3,3])"
      ],
      "metadata": {
        "colab": {
          "base_uri": "https://localhost:8080/"
        },
        "id": "w-KlDxgqMhnO",
        "outputId": "380e25df-4d70-42a7-b26a-b0df06b8ce99"
      },
      "execution_count": null,
      "outputs": [
        {
          "output_type": "execute_result",
          "data": {
            "text/plain": [
              "array([[0., 0., 0.],\n",
              "       [0., 0., 0.],\n",
              "       [0., 0., 0.]])"
            ]
          },
          "metadata": {},
          "execution_count": 13
        }
      ]
    },
    {
      "cell_type": "markdown",
      "source": [
        "Linspace here gives output of 5 numbers with equal spacing between each in the range 10 to 100"
      ],
      "metadata": {
        "id": "H9ZuHW2XOzff"
      }
    },
    {
      "cell_type": "code",
      "source": [
        "np.linspace(10,100,5)"
      ],
      "metadata": {
        "colab": {
          "base_uri": "https://localhost:8080/"
        },
        "id": "svA9nQJRMuXs",
        "outputId": "c0e6ec21-a696-4b95-fab6-ceb0dca5afaf"
      },
      "execution_count": null,
      "outputs": [
        {
          "output_type": "execute_result",
          "data": {
            "text/plain": [
              "array([ 10. ,  32.5,  55. ,  77.5, 100. ])"
            ]
          },
          "metadata": {},
          "execution_count": 14
        }
      ]
    },
    {
      "cell_type": "markdown",
      "source": [
        "Printing 4 ones as float datatypes."
      ],
      "metadata": {
        "id": "03R8SHIPOmlp"
      }
    },
    {
      "cell_type": "code",
      "source": [
        "np.ones(4)"
      ],
      "metadata": {
        "colab": {
          "base_uri": "https://localhost:8080/"
        },
        "id": "b-spGI8YNPDe",
        "outputId": "2923a602-1431-4cb8-a44f-fddeea103136"
      },
      "execution_count": null,
      "outputs": [
        {
          "output_type": "execute_result",
          "data": {
            "text/plain": [
              "array([1., 1., 1., 1.])"
            ]
          },
          "metadata": {},
          "execution_count": 15
        }
      ]
    },
    {
      "cell_type": "markdown",
      "source": [
        "Printing 4 ones as integer datatype in a 2D array of 4 rows and 4 columns"
      ],
      "metadata": {
        "id": "ohM6kCVjOXxr"
      }
    },
    {
      "cell_type": "code",
      "source": [
        "np.ones((4,4),dtype='int32')"
      ],
      "metadata": {
        "colab": {
          "base_uri": "https://localhost:8080/"
        },
        "id": "2S6iWXAPNfEQ",
        "outputId": "323e7d43-16a3-429b-ee9e-ec814858b49a"
      },
      "execution_count": null,
      "outputs": [
        {
          "output_type": "execute_result",
          "data": {
            "text/plain": [
              "array([[1, 1, 1, 1],\n",
              "       [1, 1, 1, 1],\n",
              "       [1, 1, 1, 1],\n",
              "       [1, 1, 1, 1]], dtype=int32)"
            ]
          },
          "metadata": {},
          "execution_count": 16
        }
      ]
    },
    {
      "cell_type": "markdown",
      "source": [
        "To genrate a random number from 0 to"
      ],
      "metadata": {
        "id": "cpkbIFR4MZR6"
      }
    },
    {
      "cell_type": "code",
      "source": [
        "np.random.rand()"
      ],
      "metadata": {
        "colab": {
          "base_uri": "https://localhost:8080/"
        },
        "id": "O4a8cQE7N20k",
        "outputId": "810391ed-0f9b-41e8-f58f-8188a117a412"
      },
      "execution_count": null,
      "outputs": [
        {
          "output_type": "execute_result",
          "data": {
            "text/plain": [
              "0.6561783452024457"
            ]
          },
          "metadata": {},
          "execution_count": 17
        }
      ]
    },
    {
      "cell_type": "markdown",
      "source": [
        "Printing a sample array , we named the array in a Camle case format ranging from o to the entered range . The arrays prints numbers untill n-1 ; wher n is the entered number."
      ],
      "metadata": {
        "id": "7srGqPNrPbPr"
      }
    },
    {
      "cell_type": "code",
      "source": [
        "sampleArray=np.arange(25)\n",
        "print(sampleArray)"
      ],
      "metadata": {
        "colab": {
          "base_uri": "https://localhost:8080/"
        },
        "id": "B9JAoFl2PKyC",
        "outputId": "79ae34f5-0328-4287-d3df-41e422619007"
      },
      "execution_count": null,
      "outputs": [
        {
          "output_type": "stream",
          "name": "stdout",
          "text": [
            "[ 0  1  2  3  4  5  6  7  8  9 10 11 12 13 14 15 16 17 18 19 20 21 22 23\n",
            " 24]\n"
          ]
        }
      ]
    },
    {
      "cell_type": "markdown",
      "source": [
        "sampleArray.shape"
      ],
      "metadata": {
        "id": "hGWfolXsPy6v"
      }
    },
    {
      "cell_type": "code",
      "source": [
        "sampleArray.shape"
      ],
      "metadata": {
        "colab": {
          "base_uri": "https://localhost:8080/"
        },
        "id": "QGhwvz2mP7oh",
        "outputId": "a7ddfedf-4366-494e-c314-fdfc9c7db753"
      },
      "execution_count": null,
      "outputs": [
        {
          "output_type": "execute_result",
          "data": {
            "text/plain": [
              "(25,)"
            ]
          },
          "metadata": {},
          "execution_count": 23
        }
      ]
    },
    {
      "cell_type": "markdown",
      "source": [
        ".reshape will change the dimension of the array"
      ],
      "metadata": {
        "id": "OHUrANpKQknh"
      }
    },
    {
      "cell_type": "code",
      "source": [
        "sample2dArray=sampleArray.reshape(5,5)\n",
        "print(sample2dArray)"
      ],
      "metadata": {
        "colab": {
          "base_uri": "https://localhost:8080/"
        },
        "id": "DQoqnxwCQkRo",
        "outputId": "44eb8d75-069b-4450-818f-d1b68978eaa1"
      },
      "execution_count": null,
      "outputs": [
        {
          "output_type": "stream",
          "name": "stdout",
          "text": [
            "[[ 0  1  2  3  4]\n",
            " [ 5  6  7  8  9]\n",
            " [10 11 12 13 14]\n",
            " [15 16 17 18 19]\n",
            " [20 21 22 23 24]]\n"
          ]
        }
      ]
    },
    {
      "cell_type": "markdown",
      "source": [
        "Gives the maximum value of the 2d Array"
      ],
      "metadata": {
        "id": "62G-BbaERmD3"
      }
    },
    {
      "cell_type": "code",
      "source": [
        "sample2dArray.max()"
      ],
      "metadata": {
        "colab": {
          "base_uri": "https://localhost:8080/"
        },
        "id": "MmXM9lYKQ1xW",
        "outputId": "bcc65b60-fcfd-43fc-ebc0-a4de8c9d8391"
      },
      "execution_count": null,
      "outputs": [
        {
          "output_type": "execute_result",
          "data": {
            "text/plain": [
              "24"
            ]
          },
          "metadata": {},
          "execution_count": 27
        }
      ]
    },
    {
      "cell_type": "markdown",
      "source": [
        "Adds 50 to the previous array (sampleArray)"
      ],
      "metadata": {
        "id": "tEuL-4-URqR1"
      }
    },
    {
      "cell_type": "code",
      "source": [
        "sample2dArray = sample2dArray + 50\n",
        "print(sample2dArray)"
      ],
      "metadata": {
        "colab": {
          "base_uri": "https://localhost:8080/"
        },
        "id": "UJ91lf4jQ7y6",
        "outputId": "c2313966-2129-4bec-928d-9e0c8b6c09fb"
      },
      "execution_count": null,
      "outputs": [
        {
          "output_type": "stream",
          "name": "stdout",
          "text": [
            "[[50 51 52 53 54]\n",
            " [55 56 57 58 59]\n",
            " [60 61 62 63 64]\n",
            " [65 66 67 68 69]\n",
            " [70 71 72 73 74]]\n"
          ]
        }
      ]
    },
    {
      "cell_type": "markdown",
      "source": [
        "Gives the max value of the 2D array (sample2dArray)"
      ],
      "metadata": {
        "id": "_P6jmOpZR4Hs"
      }
    },
    {
      "cell_type": "code",
      "source": [
        "sample2dArray.max()"
      ],
      "metadata": {
        "colab": {
          "base_uri": "https://localhost:8080/"
        },
        "id": "PM_sNnBlRCaT",
        "outputId": "976cbc42-0f84-4ca7-c174-a0138b8a69a5"
      },
      "execution_count": null,
      "outputs": [
        {
          "output_type": "execute_result",
          "data": {
            "text/plain": [
              "74"
            ]
          },
          "metadata": {},
          "execution_count": 29
        }
      ]
    },
    {
      "cell_type": "markdown",
      "source": [
        "Returns the index value of the max / highest value present in the arrray"
      ],
      "metadata": {
        "id": "0TEITG1ERQcw"
      }
    },
    {
      "cell_type": "code",
      "source": [
        "sample2dArray.argmax()"
      ],
      "metadata": {
        "colab": {
          "base_uri": "https://localhost:8080/"
        },
        "id": "YROhojcNRMw6",
        "outputId": "366c6213-bb89-44ee-c9c4-3457334e0c57"
      },
      "execution_count": null,
      "outputs": [
        {
          "output_type": "execute_result",
          "data": {
            "text/plain": [
              "24"
            ]
          },
          "metadata": {},
          "execution_count": 34
        }
      ]
    },
    {
      "cell_type": "markdown",
      "source": [
        "Gives the min value of the array (sample2dArray)"
      ],
      "metadata": {
        "id": "Hl0mVtx0SCdS"
      }
    },
    {
      "cell_type": "code",
      "source": [
        "sample2dArray.min()"
      ],
      "metadata": {
        "colab": {
          "base_uri": "https://localhost:8080/"
        },
        "id": "dhoJ5c6bRGiM",
        "outputId": "6b47d7a7-91b2-4089-d803-5a46ebd058c9"
      },
      "execution_count": null,
      "outputs": [
        {
          "output_type": "execute_result",
          "data": {
            "text/plain": [
              "50"
            ]
          },
          "metadata": {},
          "execution_count": 30
        }
      ]
    },
    {
      "cell_type": "code",
      "source": [
        "np.amax(sample2dArray)"
      ],
      "metadata": {
        "colab": {
          "base_uri": "https://localhost:8080/"
        },
        "id": "SrZopkneSGrX",
        "outputId": "9e4e9c8a-f30f-4040-d06d-e907c181b7fb"
      },
      "execution_count": null,
      "outputs": [
        {
          "output_type": "execute_result",
          "data": {
            "text/plain": [
              "74"
            ]
          },
          "metadata": {},
          "execution_count": 35
        }
      ]
    },
    {
      "cell_type": "markdown",
      "source": [
        "Addind two arrays using the sumofArray"
      ],
      "metadata": {
        "id": "816SkP9TStnD"
      }
    },
    {
      "cell_type": "code",
      "source": [
        "array1 = np.array([1,2,3,4,5])\n",
        "array2 = np.array([1,2,3,4,5])\n",
        "sumofArray = array1 + array2\n",
        "print(sumofArray)"
      ],
      "metadata": {
        "colab": {
          "base_uri": "https://localhost:8080/"
        },
        "id": "1BB0sdUWSSn8",
        "outputId": "16d6e76d-dd98-4905-c169-3d582e51c241"
      },
      "execution_count": null,
      "outputs": [
        {
          "output_type": "stream",
          "name": "stdout",
          "text": [
            "[ 2  4  6  8 10]\n"
          ]
        }
      ]
    },
    {
      "cell_type": "markdown",
      "source": [
        "Division of arrays"
      ],
      "metadata": {
        "id": "O68tLg0bTo_L"
      }
    },
    {
      "cell_type": "code",
      "source": [
        "array3 = np.array([0,0,0,0,0])"
      ],
      "metadata": {
        "id": "F2A3Mv3nS8d_"
      },
      "execution_count": null,
      "outputs": []
    },
    {
      "cell_type": "code",
      "source": [
        "array1/array3"
      ],
      "metadata": {
        "colab": {
          "base_uri": "https://localhost:8080/"
        },
        "id": "_x9oMC6DTFPK",
        "outputId": "f4a91f9f-5b38-48be-841b-8be9f0ea0604"
      },
      "execution_count": null,
      "outputs": [
        {
          "output_type": "stream",
          "name": "stderr",
          "text": [
            "<ipython-input-41-0e8faa7fc338>:1: RuntimeWarning: divide by zero encountered in divide\n",
            "  array1/array3\n"
          ]
        },
        {
          "output_type": "execute_result",
          "data": {
            "text/plain": [
              "array([inf, inf, inf, inf, inf])"
            ]
          },
          "metadata": {},
          "execution_count": 41
        }
      ]
    },
    {
      "cell_type": "code",
      "source": [
        "array3/array1"
      ],
      "metadata": {
        "colab": {
          "base_uri": "https://localhost:8080/"
        },
        "id": "nKXQIZfvTOw3",
        "outputId": "8456e62c-ec77-44b6-f48c-b953e53f39ea"
      },
      "execution_count": null,
      "outputs": [
        {
          "output_type": "execute_result",
          "data": {
            "text/plain": [
              "array([0., 0., 0., 0., 0.])"
            ]
          },
          "metadata": {},
          "execution_count": 40
        }
      ]
    },
    {
      "cell_type": "markdown",
      "source": [
        "Reduces all values by 1"
      ],
      "metadata": {
        "id": "rwY9JybtTrvG"
      }
    },
    {
      "cell_type": "code",
      "source": [
        "sampleArray[:-1]"
      ],
      "metadata": {
        "colab": {
          "base_uri": "https://localhost:8080/"
        },
        "id": "DSnj9IUsTv9q",
        "outputId": "9d6082d2-b1c9-449e-f296-8157647546ff"
      },
      "execution_count": null,
      "outputs": [
        {
          "output_type": "execute_result",
          "data": {
            "text/plain": [
              "array([ 0,  1,  2,  3,  4,  5,  6,  7,  8,  9, 10, 11, 12, 13, 14, 15, 16,\n",
              "       17, 18, 19, 20, 21, 22, 23])"
            ]
          },
          "metadata": {},
          "execution_count": 42
        }
      ]
    },
    {
      "cell_type": "markdown",
      "source": [
        "Changes the vaules on the indexes from 0 to 10 to 10"
      ],
      "metadata": {
        "id": "JZN72D8WUZsC"
      }
    },
    {
      "cell_type": "code",
      "source": [
        "sampleArray[0:10]=10"
      ],
      "metadata": {
        "id": "poVf5WEMT8OL"
      },
      "execution_count": null,
      "outputs": []
    },
    {
      "cell_type": "code",
      "source": [
        "sampleArray"
      ],
      "metadata": {
        "colab": {
          "base_uri": "https://localhost:8080/"
        },
        "id": "YMitSU1wUTjK",
        "outputId": "a2a11f43-f2cf-43cf-95da-d932eb430bea"
      },
      "execution_count": null,
      "outputs": [
        {
          "output_type": "execute_result",
          "data": {
            "text/plain": [
              "array([10, 10, 10, 10, 10, 10, 10, 10, 10, 10, 10, 11, 12, 13, 14, 15, 16,\n",
              "       17, 18, 19, 20, 21, 22, 23, 24])"
            ]
          },
          "metadata": {},
          "execution_count": 46
        }
      ]
    }
  ]
}